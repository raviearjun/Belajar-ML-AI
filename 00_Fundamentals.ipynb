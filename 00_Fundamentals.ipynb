{
 "cells": [
  {
   "cell_type": "markdown",
   "metadata": {},
   "source": [
    "# 00_PyTorch Fundamentals"
   ]
  },
  {
   "cell_type": "code",
   "execution_count": 63,
   "metadata": {},
   "outputs": [
    {
     "name": "stdout",
     "output_type": "stream",
     "text": [
      "Requirement already satisfied: torch in c:\\users\\asus expertbook\\anaconda3\\lib\\site-packages (2.5.1)\n",
      "Requirement already satisfied: filelock in c:\\users\\asus expertbook\\anaconda3\\lib\\site-packages (from torch) (3.13.1)\n",
      "Requirement already satisfied: typing-extensions>=4.8.0 in c:\\users\\asus expertbook\\anaconda3\\lib\\site-packages (from torch) (4.11.0)\n",
      "Requirement already satisfied: networkx in c:\\users\\asus expertbook\\anaconda3\\lib\\site-packages (from torch) (3.3)\n",
      "Requirement already satisfied: jinja2 in c:\\users\\asus expertbook\\anaconda3\\lib\\site-packages (from torch) (3.1.4)\n",
      "Requirement already satisfied: fsspec in c:\\users\\asus expertbook\\anaconda3\\lib\\site-packages (from torch) (2024.6.1)\n",
      "Requirement already satisfied: setuptools in c:\\users\\asus expertbook\\anaconda3\\lib\\site-packages (from torch) (75.1.0)\n",
      "Requirement already satisfied: sympy==1.13.1 in c:\\users\\asus expertbook\\anaconda3\\lib\\site-packages (from torch) (1.13.1)\n",
      "Requirement already satisfied: mpmath<1.4,>=1.1.0 in c:\\users\\asus expertbook\\anaconda3\\lib\\site-packages (from sympy==1.13.1->torch) (1.3.0)\n",
      "Requirement already satisfied: MarkupSafe>=2.0 in c:\\users\\asus expertbook\\anaconda3\\lib\\site-packages (from jinja2->torch) (2.1.3)\n",
      "Note: you may need to restart the kernel to use updated packages.\n",
      "2.5.1+cpu\n"
     ]
    }
   ],
   "source": [
    "# Install torch module\n",
    "%pip install torch\n",
    "\n",
    "import torch\n",
    "print(torch.__version__)"
   ]
  },
  {
   "cell_type": "code",
   "execution_count": 64,
   "metadata": {},
   "outputs": [],
   "source": [
    "import torch"
   ]
  },
  {
   "cell_type": "markdown",
   "metadata": {},
   "source": [
    "## Intro to Tensors"
   ]
  },
  {
   "cell_type": "code",
   "execution_count": 65,
   "metadata": {},
   "outputs": [
    {
     "data": {
      "text/plain": [
       "tensor(7)"
      ]
     },
     "execution_count": 65,
     "metadata": {},
     "output_type": "execute_result"
    }
   ],
   "source": [
    "# scalar\n",
    "scalar = torch.tensor(7)\n",
    "scalar"
   ]
  },
  {
   "cell_type": "code",
   "execution_count": 66,
   "metadata": {},
   "outputs": [
    {
     "data": {
      "text/plain": [
       "0"
      ]
     },
     "execution_count": 66,
     "metadata": {},
     "output_type": "execute_result"
    }
   ],
   "source": [
    "scalar.ndim"
   ]
  },
  {
   "cell_type": "code",
   "execution_count": 67,
   "metadata": {},
   "outputs": [
    {
     "data": {
      "text/plain": [
       "tensor([7, 7])"
      ]
     },
     "execution_count": 67,
     "metadata": {},
     "output_type": "execute_result"
    }
   ],
   "source": [
    "# vector\n",
    "vector = torch.tensor([7, 7])\n",
    "vector"
   ]
  },
  {
   "cell_type": "code",
   "execution_count": 68,
   "metadata": {},
   "outputs": [
    {
     "data": {
      "text/plain": [
       "1"
      ]
     },
     "execution_count": 68,
     "metadata": {},
     "output_type": "execute_result"
    }
   ],
   "source": [
    "vector.ndim"
   ]
  },
  {
   "cell_type": "code",
   "execution_count": 69,
   "metadata": {},
   "outputs": [
    {
     "data": {
      "text/plain": [
       "tensor([[[[1, 1, 1],\n",
       "          [2, 2, 2],\n",
       "          [3, 3, 3],\n",
       "          [4, 4, 4]]],\n",
       "\n",
       "\n",
       "        [[[1, 1, 2],\n",
       "          [2, 2, 2],\n",
       "          [3, 3, 3],\n",
       "          [4, 4, 4]]]])"
      ]
     },
     "execution_count": 69,
     "metadata": {},
     "output_type": "execute_result"
    }
   ],
   "source": [
    "#MATRIX \n",
    "MATRIX = torch.tensor([[[[1, 1, 1],\n",
    "                         [2, 2, 2],\n",
    "                         [3, 3, 3],\n",
    "                         [4, 4, 4]]],\n",
    "                         [[[1, 1, 2],\n",
    "                         [2, 2, 2],\n",
    "                         [3, 3, 3],\n",
    "                         [4, 4, 4]]]])\n",
    "MATRIX"
   ]
  },
  {
   "cell_type": "code",
   "execution_count": 70,
   "metadata": {},
   "outputs": [
    {
     "data": {
      "text/plain": [
       "4"
      ]
     },
     "execution_count": 70,
     "metadata": {},
     "output_type": "execute_result"
    }
   ],
   "source": [
    "MATRIX.ndim # dimensi adalah banyaknya square brackets di dalam tensor"
   ]
  },
  {
   "cell_type": "code",
   "execution_count": 71,
   "metadata": {},
   "outputs": [
    {
     "data": {
      "text/plain": [
       "torch.Size([2, 1, 4, 3])"
      ]
     },
     "execution_count": 71,
     "metadata": {},
     "output_type": "execute_result"
    }
   ],
   "source": [
    "MATRIX.shape # shape adalah urutan banyaknya elemen pada sqb terluar ke terdalam"
   ]
  },
  {
   "cell_type": "markdown",
   "metadata": {},
   "source": [
    "### Random Tensors"
   ]
  },
  {
   "cell_type": "code",
   "execution_count": 72,
   "metadata": {},
   "outputs": [
    {
     "data": {
      "text/plain": [
       "tensor([[0.5994, 0.3052, 0.3714, 0.9819, 0.0724, 0.6950, 0.3543, 0.0812, 0.8942,\n",
       "         0.1810],\n",
       "        [0.7338, 0.6257, 0.7853, 0.8815, 0.3748, 0.8950, 0.1922, 0.4324, 0.6464,\n",
       "         0.9493],\n",
       "        [0.5165, 0.2511, 0.0022, 0.7221, 0.5870, 0.4305, 0.0718, 0.9251, 0.5822,\n",
       "         0.6016],\n",
       "        [0.1211, 0.6641, 0.3463, 0.3348, 0.8664, 0.3790, 0.5047, 0.8947, 0.8157,\n",
       "         0.0569],\n",
       "        [0.9341, 0.1077, 0.3113, 0.7658, 0.9976, 0.7746, 0.5179, 0.0090, 0.2684,\n",
       "         0.8196],\n",
       "        [0.1812, 0.0665, 0.8656, 0.2247, 0.7619, 0.0680, 0.8140, 0.7931, 0.5796,\n",
       "         0.5045],\n",
       "        [0.1798, 0.9075, 0.7687, 0.9634, 0.9209, 0.6555, 0.3367, 0.7524, 0.5143,\n",
       "         0.8734],\n",
       "        [0.9600, 0.7900, 0.8426, 0.6395, 0.7197, 0.6930, 0.4774, 0.1477, 0.3075,\n",
       "         0.2790],\n",
       "        [0.2853, 0.6436, 0.1024, 0.0858, 0.6033, 0.4676, 0.9305, 0.8978, 0.4810,\n",
       "         0.8785],\n",
       "        [0.3427, 0.7968, 0.8591, 0.3116, 0.4716, 0.1344, 0.5477, 0.3453, 0.9326,\n",
       "         0.7958]])"
      ]
     },
     "execution_count": 72,
     "metadata": {},
     "output_type": "execute_result"
    }
   ],
   "source": [
    "random_tensor = torch.rand(10, 10)\n",
    "random_tensor"
   ]
  },
  {
   "cell_type": "code",
   "execution_count": 73,
   "metadata": {},
   "outputs": [
    {
     "data": {
      "text/plain": [
       "(torch.Size([224, 224, 3]), 3)"
      ]
     },
     "execution_count": 73,
     "metadata": {},
     "output_type": "execute_result"
    }
   ],
   "source": [
    "random_image_tensor = torch.rand(size=(224, 224, 3)) # height, width, color channel\n",
    "random_image_tensor.shape, random_image_tensor.ndim"
   ]
  },
  {
   "cell_type": "markdown",
   "metadata": {},
   "source": [
    "### Zeros and Ones tensor"
   ]
  },
  {
   "cell_type": "code",
   "execution_count": 74,
   "metadata": {},
   "outputs": [
    {
     "data": {
      "text/plain": [
       "tensor([[0., 0., 0., 0.],\n",
       "        [0., 0., 0., 0.],\n",
       "        [0., 0., 0., 0.]])"
      ]
     },
     "execution_count": 74,
     "metadata": {},
     "output_type": "execute_result"
    }
   ],
   "source": [
    "ones = torch.ones(3, 4)\n",
    "ones * torch.zeros(3, 4)"
   ]
  },
  {
   "cell_type": "markdown",
   "metadata": {},
   "source": [
    "### Tensor Datatype\n",
    "\n",
    "**Note** : 3 error yang akan sering ditemui ketika belajar PyTorch & Deep Learning\n",
    "1. tipe data tensor yang salah\n",
    "2. bentuk tensor yang tidak benar\n",
    "3. tensors not in the right device\n"
   ]
  },
  {
   "cell_type": "code",
   "execution_count": 75,
   "metadata": {},
   "outputs": [
    {
     "data": {
      "text/plain": [
       "torch.float32"
      ]
     },
     "execution_count": 75,
     "metadata": {},
     "output_type": "execute_result"
    }
   ],
   "source": [
    "# float32 tensors\n",
    "float_32_tensor =  torch.tensor([3.0, 6.0, 4.0], \n",
    "                                dtype=None, # default is torch.float32 \n",
    "                                device=None, # what device the tensor is on\n",
    "                                requires_grad=False) # whether or not to track gradients with this tensor\n",
    "float_32_tensor.dtype"
   ]
  },
  {
   "cell_type": "code",
   "execution_count": 76,
   "metadata": {},
   "outputs": [
    {
     "data": {
      "text/plain": [
       "tensor([ 9., 36., 16.])"
      ]
     },
     "execution_count": 76,
     "metadata": {},
     "output_type": "execute_result"
    }
   ],
   "source": [
    "tensor_64_int = torch.tensor([3, 6, 4], dtype=torch.int64)\n",
    "\n",
    "multiply = float_32_tensor * tensor_64_int\n",
    "multiply"
   ]
  },
  {
   "cell_type": "markdown",
   "metadata": {},
   "source": [
    "- tensor dengan tipe data yang berbeda bisa dioperasikan, namun hasilnya akan mengikuti tipe data yang lebih tinggi\n",
    "- untuk mengetahui type data tensor, kita bisa menggunakan `.dtype`\n",
    "- untuk mengetahui device apa yang digunakan untuk mengoperasikan tensor, kita bisa menggunakana `.device`\n",
    "- untuk mengetahui shape dari tensor, kita bisa menggunakan `.shape`\n",
    "\n"
   ]
  },
  {
   "cell_type": "code",
   "execution_count": 77,
   "metadata": {},
   "outputs": [
    {
     "data": {
      "text/plain": [
       "device(type='cpu')"
      ]
     },
     "execution_count": 77,
     "metadata": {},
     "output_type": "execute_result"
    }
   ],
   "source": [
    "tensor_64_int.device"
   ]
  },
  {
   "cell_type": "code",
   "execution_count": 78,
   "metadata": {},
   "outputs": [
    {
     "name": "stdout",
     "output_type": "stream",
     "text": [
      "tensor([[0.1152, 0.8774, 0.3883, 0.2855, 0.5464],\n",
      "        [0.5504, 0.6045, 0.8958, 0.6380, 0.2573],\n",
      "        [0.7259, 0.2012, 0.4409, 0.5893, 0.5924],\n",
      "        [0.6521, 0.3591, 0.3563, 0.2073, 0.4995],\n",
      "        [0.7108, 0.8589, 0.1440, 0.1234, 0.7630]])\n",
      "The shape of the tensor is : torch.Size([5, 5])\n",
      "The dtype of the tensor is a : torch.float32\n",
      "The device the tensor executed is on : cpu\n"
     ]
    }
   ],
   "source": [
    "rand_tensor = torch.rand(5, 5);\n",
    "print(rand_tensor)\n",
    "print(f\"The shape of the tensor is : {rand_tensor.shape}\")\n",
    "print(f\"The dtype of the tensor is a : {rand_tensor.dtype}\")\n",
    "print(f\"The device the tensor executed is on : {rand_tensor.device}\")\n"
   ]
  },
  {
   "cell_type": "markdown",
   "metadata": {},
   "source": [
    "### Tensor Manipulation\n",
    "\n",
    "Tensor operations, include :\n",
    "1. addition\n",
    "2. subtraction\n",
    "3. multiplication (elemen wise)\n",
    "4. division \n",
    "5. matrix multiplication"
   ]
  },
  {
   "cell_type": "code",
   "execution_count": 79,
   "metadata": {},
   "outputs": [
    {
     "data": {
      "text/plain": [
       "tensor([[0.6898, 0.7529, 0.5268],\n",
       "        [0.5890, 0.4786, 0.4908],\n",
       "        [0.7032, 0.8017, 0.4001]])"
      ]
     },
     "execution_count": 79,
     "metadata": {},
     "output_type": "execute_result"
    }
   ],
   "source": [
    "# create a tensor\n",
    "num_tensor = torch.rand(3, 3)\n",
    "num_tensor"
   ]
  },
  {
   "cell_type": "code",
   "execution_count": 80,
   "metadata": {},
   "outputs": [
    {
     "data": {
      "text/plain": [
       "tensor([[6.8982, 7.5286, 5.2678],\n",
       "        [5.8896, 4.7856, 4.9081],\n",
       "        [7.0319, 8.0170, 4.0012]])"
      ]
     },
     "execution_count": 80,
     "metadata": {},
     "output_type": "execute_result"
    }
   ],
   "source": [
    "# membuat tensor berada dalam rentang 0-9\n",
    "num_tensor *= 10\n",
    "num_tensor"
   ]
  },
  {
   "cell_type": "code",
   "execution_count": 81,
   "metadata": {},
   "outputs": [
    {
     "data": {
      "text/plain": [
       "tensor([[7.8982, 8.5286, 6.2678],\n",
       "        [6.8896, 5.7856, 5.9081],\n",
       "        [8.0319, 9.0170, 5.0012]])"
      ]
     },
     "execution_count": 81,
     "metadata": {},
     "output_type": "execute_result"
    }
   ],
   "source": [
    "\n",
    "# menambahkan angka ke dalam tensor\n",
    "num_tensor + 1"
   ]
  },
  {
   "cell_type": "code",
   "execution_count": 82,
   "metadata": {},
   "outputs": [
    {
     "data": {
      "text/plain": [
       "tensor([[7.8982, 8.5286, 6.2678],\n",
       "        [6.8896, 5.7856, 5.9081],\n",
       "        [8.0319, 9.0170, 5.0012]])"
      ]
     },
     "execution_count": 82,
     "metadata": {},
     "output_type": "execute_result"
    }
   ],
   "source": [
    "# menambahkan tensor suatu bilangan\n",
    "num_tensor + 1"
   ]
  },
  {
   "cell_type": "code",
   "execution_count": 83,
   "metadata": {},
   "outputs": [
    {
     "data": {
      "text/plain": [
       "tensor([[5.8982, 6.5286, 4.2678],\n",
       "        [4.8896, 3.7856, 3.9081],\n",
       "        [6.0319, 7.0170, 3.0012]])"
      ]
     },
     "execution_count": 83,
     "metadata": {},
     "output_type": "execute_result"
    }
   ],
   "source": [
    "# mengurangi tensor suatu bilangan\n",
    "num_tensor - 1"
   ]
  },
  {
   "cell_type": "markdown",
   "metadata": {},
   "source": [
    "#### Tensor Multiplication\n",
    "1. Element-wise mul\n",
    "2. Matrix mul"
   ]
  },
  {
   "cell_type": "code",
   "execution_count": 84,
   "metadata": {},
   "outputs": [
    {
     "data": {
      "text/plain": [
       "tensor([[6, 9, 0],\n",
       "        [8, 9, 0],\n",
       "        [0, 9, 6]])"
      ]
     },
     "execution_count": 84,
     "metadata": {},
     "output_type": "execute_result"
    }
   ],
   "source": [
    "int_tensor = (torch.rand(3, 3)*10).to(torch.int64)\n",
    "int_tensor"
   ]
  },
  {
   "cell_type": "code",
   "execution_count": 85,
   "metadata": {},
   "outputs": [
    {
     "data": {
      "text/plain": [
       "tensor([[60, 90,  0],\n",
       "        [80, 90,  0],\n",
       "        [ 0, 90, 60]])"
      ]
     },
     "execution_count": 85,
     "metadata": {},
     "output_type": "execute_result"
    }
   ],
   "source": [
    "# Element-wise multiplication\n",
    "int_tensor * 10\n"
   ]
  },
  {
   "cell_type": "markdown",
   "metadata": {},
   "source": [
    "Menggunakan looping manual tanpa bantuan PyTorch\n"
   ]
  },
  {
   "cell_type": "code",
   "execution_count": 86,
   "metadata": {},
   "outputs": [
    {
     "name": "stdout",
     "output_type": "stream",
     "text": [
      "tensor(20)\n",
      "CPU times: total: 0 ns\n",
      "Wall time: 999 μs\n"
     ]
    }
   ],
   "source": [
    "%%time\n",
    "tensor1 = torch.tensor([1, 2, 3])\n",
    "tensor2 = torch.tensor([2, 3, 4])\n",
    "total = 0\n",
    "\n",
    "for i in range(len(tensor1)):\n",
    "    total += tensor1[i] * tensor2[i]\n",
    "print(total)"
   ]
  },
  {
   "cell_type": "markdown",
   "metadata": {},
   "source": [
    "Menggunakan framework PyTorch\n"
   ]
  },
  {
   "cell_type": "code",
   "execution_count": 87,
   "metadata": {},
   "outputs": [
    {
     "name": "stdout",
     "output_type": "stream",
     "text": [
      "tensor(20)\n",
      "CPU times: total: 0 ns\n",
      "Wall time: 1 ms\n"
     ]
    }
   ],
   "source": [
    "%%time\n",
    "print(torch.matmul(tensor1, tensor2))"
   ]
  },
  {
   "cell_type": "markdown",
   "metadata": {},
   "source": [
    "tensor_A = torch.tensor([[1, 2],\n",
    "                          [3, 4],\n",
    "                          [5, 6]])\n",
    "tensor_B = torch.tensor([[7, 10],\n",
    "                          [8, 11],\n",
    "                          [9, 12]])\n",
    "print(f\"shape of tensor A is {tensor_A.shape} and shape of tensor B is {tensor_B.shape}\")"
   ]
  },
  {
   "cell_type": "code",
   "execution_count": 88,
   "metadata": {},
   "outputs": [
    {
     "ename": "NameError",
     "evalue": "name 'tensor_B' is not defined",
     "output_type": "error",
     "traceback": [
      "\u001b[1;31m---------------------------------------------------------------------------\u001b[0m",
      "\u001b[1;31mNameError\u001b[0m                                 Traceback (most recent call last)",
      "Cell \u001b[1;32mIn[88], line 2\u001b[0m\n\u001b[0;32m      1\u001b[0m \u001b[38;5;66;03m# matrix multiplication     \u001b[39;00m\n\u001b[1;32m----> 2\u001b[0m AxB \u001b[38;5;241m=\u001b[39m torch\u001b[38;5;241m.\u001b[39mmm(tensor_A, tensor_B\u001b[38;5;241m.\u001b[39mT)\n\u001b[0;32m      3\u001b[0m AxB, AxB\u001b[38;5;241m.\u001b[39mshape\n",
      "\u001b[1;31mNameError\u001b[0m: name 'tensor_B' is not defined"
     ]
    }
   ],
   "source": [
    "# matrix multiplication     \n",
    "AxB = torch.mm(tensor_A, tensor_B.T)\n",
    "AxB, AxB.shape"
   ]
  },
  {
   "cell_type": "markdown",
   "metadata": {},
   "source": [
    "#### Tensor Aggregation \n",
    "Finding min, max, mean, sum, etc"
   ]
  },
  {
   "cell_type": "code",
   "execution_count": 55,
   "metadata": {},
   "outputs": [
    {
     "data": {
      "text/plain": [
       "tensor([ 0., 10., 20., 30., 40., 50., 60., 70., 80., 90.])"
      ]
     },
     "execution_count": 55,
     "metadata": {},
     "output_type": "execute_result"
    }
   ],
   "source": [
    "X = torch.arange(0, 100, 10)\n",
    "X = X.to(torch.float32)\n",
    "X"
   ]
  },
  {
   "cell_type": "code",
   "execution_count": 56,
   "metadata": {},
   "outputs": [
    {
     "data": {
      "text/plain": [
       "(tensor(0.), tensor(90.), tensor(45.))"
      ]
     },
     "execution_count": 56,
     "metadata": {},
     "output_type": "execute_result"
    }
   ],
   "source": [
    "torch.min(X), torch.max(X), torch.mean(X)"
   ]
  },
  {
   "cell_type": "code",
   "execution_count": 58,
   "metadata": {},
   "outputs": [
    {
     "data": {
      "text/plain": [
       "(tensor(9), tensor(0))"
      ]
     },
     "execution_count": 58,
     "metadata": {},
     "output_type": "execute_result"
    }
   ],
   "source": [
    "# find the index of the max value\n",
    "torch.argmax(X), torch.argmin(X)"
   ]
  },
  {
   "cell_type": "markdown",
   "metadata": {},
   "source": [
    "### Reshaping, stacking, squeezing, and unsqueezing\n",
    "\n",
    "* Reshaping - reshape an input tensor to a defined shape\n",
    "* View \n",
    "* Stacking - combine multiple tensors on top of each other (vstack) or side by side (hstack)\n",
    "* Squeeze - removes all `1` dimension from a tensor\n",
    "* Unsqueeze - add a `1` dimension to a target tensor\n",
    "* Permute - Return a view of the input dimension permuted(swapped) in a certain way"
   ]
  },
  {
   "cell_type": "code",
   "execution_count": 30,
   "metadata": {},
   "outputs": [
    {
     "data": {
      "text/plain": [
       "(tensor([ 1,  2,  3,  4,  5,  6,  7,  8,  9, 10, 11, 12]), torch.Size([12]))"
      ]
     },
     "execution_count": 30,
     "metadata": {},
     "output_type": "execute_result"
    }
   ],
   "source": [
    "# Reshape\n",
    "tensor_A = torch.arange(1,13, 1);\n",
    "tensor_A, tensor_A.size()"
   ]
  },
  {
   "cell_type": "code",
   "execution_count": 31,
   "metadata": {},
   "outputs": [
    {
     "data": {
      "text/plain": [
       "(tensor([[ 1,  2,  3,  4],\n",
       "         [ 5,  6,  7,  8],\n",
       "         [ 9, 10, 11, 12]]),\n",
       " tensor([[ 1,  2,  3,  4,  5,  6],\n",
       "         [ 7,  8,  9, 10, 11, 12]]))"
      ]
     },
     "execution_count": 31,
     "metadata": {},
     "output_type": "execute_result"
    }
   ],
   "source": [
    "tensor_A.reshape(3, 4), tensor_A.reshape(2, 6)\n"
   ]
  },
  {
   "cell_type": "code",
   "execution_count": 42,
   "metadata": {},
   "outputs": [
    {
     "data": {
      "text/plain": [
       "(tensor([[ 1,  2,  3,  4],\n",
       "         [ 5,  6,  7,  8],\n",
       "         [ 9, 10, 11, 12]]),\n",
       " torch.Size([3, 4]),\n",
       " 2)"
      ]
     },
     "execution_count": 42,
     "metadata": {},
     "output_type": "execute_result"
    }
   ],
   "source": [
    "# Add extra dimension\n",
    "A_reshaped = tensor_A.reshape(3, 4)\n",
    "A_reshaped, A_reshaped.shape, A_reshaped.dim()"
   ]
  },
  {
   "cell_type": "markdown",
   "metadata": {},
   "source": [
    "#### View\n"
   ]
  },
  {
   "cell_type": "code",
   "execution_count": 43,
   "metadata": {},
   "outputs": [
    {
     "data": {
      "text/plain": [
       "(tensor([[1, 2, 3, 4, 5, 6, 7, 8, 9]]), torch.Size([1, 9]))"
      ]
     },
     "execution_count": 43,
     "metadata": {},
     "output_type": "execute_result"
    }
   ],
   "source": [
    "X = torch.arange(1, 10, 1)\n",
    "Z = X.view(1, 9)\n",
    "Z, Z.shape"
   ]
  },
  {
   "cell_type": "code",
   "execution_count": 45,
   "metadata": {},
   "outputs": [
    {
     "data": {
      "text/plain": [
       "(tensor([[5, 2, 3, 4, 5, 6, 7, 8, 9]]), tensor([5, 2, 3, 4, 5, 6, 7, 8, 9]))"
      ]
     },
     "execution_count": 45,
     "metadata": {},
     "output_type": "execute_result"
    }
   ],
   "source": [
    "Z[:, 0] = 5\n",
    "Z, X"
   ]
  },
  {
   "cell_type": "markdown",
   "metadata": {},
   "source": [
    "#### Squeeze and Unsqueeze"
   ]
  },
  {
   "cell_type": "code",
   "execution_count": 49,
   "metadata": {},
   "outputs": [
    {
     "name": "stdout",
     "output_type": "stream",
     "text": [
      "ini adalah tensor awal : tensor([[1, 2, 3, 4, 5, 6, 7, 8, 9]])\n",
      "ukurannya adalah torch.Size([1, 9])\n",
      "ini adalah tensor hasil squeezing tensor([1, 2, 3, 4, 5, 6, 7, 8, 9])\n",
      "ukurannya adalah torch.Size([9])\n"
     ]
    }
   ],
   "source": [
    "# torch.squeeze removes all single dimension from a target tensor\n",
    "# membuat tensor\n",
    "X = torch.arange(1, 10, 1)\n",
    "X_reshaped = X.reshape(1, 9)\n",
    "\n",
    "# melihat dimensi\n",
    "print(f\"ini adalah tensor awal : {X_reshaped}\")\n",
    "print(f\"ukurannya adalah {X_reshaped.shape}\")\n",
    "\n",
    "# menampilkan dimensi akhir\n",
    "X_squeezed = X_reshaped.squeeze()\n",
    "print(f\"ini adalah tensor hasil squeezing {X_squeezed}\")\n",
    "print(f\"ukurannya adalah {X_squeezed.shape}\")"
   ]
  },
  {
   "cell_type": "code",
   "execution_count": 55,
   "metadata": {},
   "outputs": [
    {
     "name": "stdout",
     "output_type": "stream",
     "text": [
      "ini adalah tensor awal : tensor([1, 2, 3, 4, 5, 6, 7, 8, 9])\n",
      "ukurannya adalah : torch.Size([9])\n",
      "ini adalah tensor hasil unsqueeze tensor([[1, 2, 3, 4, 5, 6, 7, 8, 9]])\n",
      "ukurannya adalah : torch.Size([1, 9])\n"
     ]
    }
   ],
   "source": [
    "# torch.unsquezee() - add a single dimension to a target tensor\n",
    "\n",
    "# melihat dimensi\n",
    "print(f\"ini adalah tensor awal : {X_squeezed}\")\n",
    "print(f\"ukurannya adalah : {X_squeezed.shape}\")\n",
    "\n",
    "X_unsqueezed = X_squeezed.unsqueeze(0)\n",
    "print(f\"ini adalah tensor hasil unsqueeze {X_unsqueezed}\")\n",
    "print(f\"ukurannya adalah : {X_unsqueezed.shape}\")\n"
   ]
  },
  {
   "cell_type": "markdown",
   "metadata": {},
   "source": [
    "#### Tensor Permutation\n",
    "Fungsi utama : mengubah urutan dimensi yang dimiliki tensor\n",
    "\n",
    "**note** : permutasi tensor adalah view dari tensor asal, artinya mengubah tensor hasil permutasi juga mengubah tensor asal karena mereka berbagi alamat memori yang sama"
   ]
  },
  {
   "cell_type": "code",
   "execution_count": 58,
   "metadata": {},
   "outputs": [
    {
     "name": "stdout",
     "output_type": "stream",
     "text": [
      "ini adalah tensor awal tensor([[[0.6629, 0.6527, 0.0719],\n",
      "         [0.9382, 0.2608, 0.4452],\n",
      "         [0.5099, 0.7344, 0.2992],\n",
      "         ...,\n",
      "         [0.0872, 0.2946, 0.0922],\n",
      "         [0.9883, 0.1089, 0.5583],\n",
      "         [0.0963, 0.4558, 0.6091]],\n",
      "\n",
      "        [[0.5947, 0.6384, 0.3215],\n",
      "         [0.7610, 0.7105, 0.8761],\n",
      "         [0.6772, 0.6460, 0.0734],\n",
      "         ...,\n",
      "         [0.7021, 0.9431, 0.1790],\n",
      "         [0.8540, 0.9552, 0.0806],\n",
      "         [0.9255, 0.7137, 0.6329]],\n",
      "\n",
      "        [[0.2093, 0.5691, 0.3229],\n",
      "         [0.5280, 0.9966, 0.1848],\n",
      "         [0.7332, 0.1532, 0.5451],\n",
      "         ...,\n",
      "         [0.9294, 0.6063, 0.2123],\n",
      "         [0.1182, 0.8693, 0.0943],\n",
      "         [0.4359, 0.8949, 0.1929]],\n",
      "\n",
      "        ...,\n",
      "\n",
      "        [[0.2213, 0.4515, 0.5196],\n",
      "         [0.1736, 0.1795, 0.0225],\n",
      "         [0.1995, 0.1366, 0.6316],\n",
      "         ...,\n",
      "         [0.7848, 0.0190, 0.0388],\n",
      "         [0.7667, 0.0359, 0.0088],\n",
      "         [0.4562, 0.8717, 0.9169]],\n",
      "\n",
      "        [[0.4846, 0.9629, 0.9172],\n",
      "         [0.8490, 0.7729, 0.4658],\n",
      "         [0.4287, 0.1193, 0.9704],\n",
      "         ...,\n",
      "         [0.4357, 0.3253, 0.7661],\n",
      "         [0.8713, 0.3292, 0.6710],\n",
      "         [0.9157, 0.5768, 0.4443]],\n",
      "\n",
      "        [[0.5622, 0.9259, 0.9863],\n",
      "         [0.8461, 0.7745, 0.3705],\n",
      "         [0.4811, 0.5771, 0.2185],\n",
      "         ...,\n",
      "         [0.5705, 0.1081, 0.0670],\n",
      "         [0.3364, 0.8454, 0.1957],\n",
      "         [0.9397, 0.1027, 0.8807]]])\n",
      "bentuknya adalah : torch.Size([224, 224, 3])\n",
      "ini adalah tensor permuted tensor([[[0.6629, 0.9382, 0.5099,  ..., 0.0872, 0.9883, 0.0963],\n",
      "         [0.5947, 0.7610, 0.6772,  ..., 0.7021, 0.8540, 0.9255],\n",
      "         [0.2093, 0.5280, 0.7332,  ..., 0.9294, 0.1182, 0.4359],\n",
      "         ...,\n",
      "         [0.2213, 0.1736, 0.1995,  ..., 0.7848, 0.7667, 0.4562],\n",
      "         [0.4846, 0.8490, 0.4287,  ..., 0.4357, 0.8713, 0.9157],\n",
      "         [0.5622, 0.8461, 0.4811,  ..., 0.5705, 0.3364, 0.9397]],\n",
      "\n",
      "        [[0.6527, 0.2608, 0.7344,  ..., 0.2946, 0.1089, 0.4558],\n",
      "         [0.6384, 0.7105, 0.6460,  ..., 0.9431, 0.9552, 0.7137],\n",
      "         [0.5691, 0.9966, 0.1532,  ..., 0.6063, 0.8693, 0.8949],\n",
      "         ...,\n",
      "         [0.4515, 0.1795, 0.1366,  ..., 0.0190, 0.0359, 0.8717],\n",
      "         [0.9629, 0.7729, 0.1193,  ..., 0.3253, 0.3292, 0.5768],\n",
      "         [0.9259, 0.7745, 0.5771,  ..., 0.1081, 0.8454, 0.1027]],\n",
      "\n",
      "        [[0.0719, 0.4452, 0.2992,  ..., 0.0922, 0.5583, 0.6091],\n",
      "         [0.3215, 0.8761, 0.0734,  ..., 0.1790, 0.0806, 0.6329],\n",
      "         [0.3229, 0.1848, 0.5451,  ..., 0.2123, 0.0943, 0.1929],\n",
      "         ...,\n",
      "         [0.5196, 0.0225, 0.6316,  ..., 0.0388, 0.0088, 0.9169],\n",
      "         [0.9172, 0.4658, 0.9704,  ..., 0.7661, 0.6710, 0.4443],\n",
      "         [0.9863, 0.3705, 0.2185,  ..., 0.0670, 0.1957, 0.8807]]])\n",
      "bentuknya adalah : torch.Size([3, 224, 224])\n"
     ]
    }
   ],
   "source": [
    "x_original = torch.rand(size=(224, 224, 3)) # height, width, color channel\n",
    "print(f\"ini adalah tensor awal {x_original}\")\n",
    "print(f\"bentuknya adalah : {x_original.shape}\")\n",
    "\n",
    "# Permute the original tensor to rearrange the axis (or dim) order\n",
    "x_permuted = x_original.permute(2, 0, 1)\n",
    "print(f\"ini adalah tensor permuted {x_permuted}\")\n",
    "print(f\"bentuknya adalah : {x_permuted.shape}\")\n"
   ]
  },
  {
   "cell_type": "code",
   "execution_count": 60,
   "metadata": {},
   "outputs": [
    {
     "data": {
      "text/plain": [
       "(tensor(12345.), tensor(12345.))"
      ]
     },
     "execution_count": 60,
     "metadata": {},
     "output_type": "execute_result"
    }
   ],
   "source": [
    "# bukti bahwa keduanya berbagi alamat memori yang sama\n",
    "x_original[0, 0, 0] = 12345\n",
    "x_original[0, 0, 0], x_permuted[0, 0, 0]    "
   ]
  },
  {
   "cell_type": "markdown",
   "metadata": {},
   "source": [
    "### Indexing and Slicing\n"
   ]
  },
  {
   "cell_type": "code",
   "execution_count": 89,
   "metadata": {},
   "outputs": [
    {
     "data": {
      "text/plain": [
       "tensor([[[1, 2, 3],\n",
       "         [4, 5, 6],\n",
       "         [7, 8, 9]]])"
      ]
     },
     "execution_count": 89,
     "metadata": {},
     "output_type": "execute_result"
    }
   ],
   "source": [
    "# creating a tensor\n",
    "x = torch.tensor([[[1, 2, 3],\n",
    "                   [4, 5, 6],\n",
    "                   [7, 8, 9]]])\n",
    "x"
   ]
  },
  {
   "cell_type": "code",
   "execution_count": 90,
   "metadata": {},
   "outputs": [
    {
     "data": {
      "text/plain": [
       "tensor([[3, 6, 9]])"
      ]
     },
     "execution_count": 90,
     "metadata": {},
     "output_type": "execute_result"
    }
   ],
   "source": [
    "x[:, :, 2] # all rows, all columns, index 2"
   ]
  },
  {
   "cell_type": "code",
   "execution_count": 91,
   "metadata": {},
   "outputs": [
    {
     "data": {
      "text/plain": [
       "tensor([8])"
      ]
     },
     "execution_count": 91,
     "metadata": {},
     "output_type": "execute_result"
    }
   ],
   "source": [
    "x[:, 2, 1]"
   ]
  },
  {
   "cell_type": "code",
   "execution_count": 92,
   "metadata": {},
   "outputs": [
    {
     "data": {
      "text/plain": [
       "tensor([6])"
      ]
     },
     "execution_count": 92,
     "metadata": {},
     "output_type": "execute_result"
    }
   ],
   "source": [
    "x[:, 1, 2]"
   ]
  },
  {
   "cell_type": "markdown",
   "metadata": {},
   "source": [
    "### Tensor and NumPy library\n",
    "\n"
   ]
  },
  {
   "cell_type": "code",
   "execution_count": 100,
   "metadata": {},
   "outputs": [
    {
     "data": {
      "text/plain": [
       "(tensor([1., 2., 3., 4., 5., 6., 7.]), torch.float32)"
      ]
     },
     "execution_count": 100,
     "metadata": {},
     "output_type": "execute_result"
    }
   ],
   "source": [
    "# numpy array to tensor \n",
    "import torch\n",
    "import numpy as np\n",
    "\n",
    "array = np.arange(1.0, 8.0, 1) # dtype : float64\n",
    "array = array.astype(np.float32) \n",
    "tensor = torch.from_numpy(array) \n",
    "tensor, tensor.dtype"
   ]
  },
  {
   "cell_type": "code",
   "execution_count": 102,
   "metadata": {},
   "outputs": [
    {
     "data": {
      "text/plain": [
       "(array([1., 2., 3., 4., 5., 6., 7.], dtype=float32), dtype('float32'))"
      ]
     },
     "execution_count": 102,
     "metadata": {},
     "output_type": "execute_result"
    }
   ],
   "source": [
    "np_array = tensor.numpy()\n",
    "np_array, np_array.dtype"
   ]
  }
 ],
 "metadata": {
  "kernelspec": {
   "display_name": "base",
   "language": "python",
   "name": "python3"
  },
  "language_info": {
   "codemirror_mode": {
    "name": "ipython",
    "version": 3
   },
   "file_extension": ".py",
   "mimetype": "text/x-python",
   "name": "python",
   "nbconvert_exporter": "python",
   "pygments_lexer": "ipython3",
   "version": "3.12.7"
  }
 },
 "nbformat": 4,
 "nbformat_minor": 2
}
